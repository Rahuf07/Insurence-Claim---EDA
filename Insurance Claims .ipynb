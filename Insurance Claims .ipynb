{
 "cells": [
  {
   "cell_type": "code",
   "execution_count": 29,
   "id": "bb217b68-6ba4-4bb9-9e06-38012132acff",
   "metadata": {},
   "outputs": [],
   "source": [
    "import pandas as pd\n",
    "import numpy as np\n",
    "import matplotlib.pyplot as plt\n",
    "import datetime as dt\n",
    "import seaborn as sns\n",
    "from datetime import timedelta\n",
    "from scipy import stats\n",
    "import warnings\n"
   ]
  },
  {
   "cell_type": "markdown",
   "id": "f9855c82-100d-4d1d-ae16-00ad355f3e35",
   "metadata": {},
   "source": [
    "### 1. Import claims_data.csv and cust_data.csv which is provided to you and combine the two datasets appropriately to create a 360-degree view of the data. Use the same for the subsequent questions."
   ]
  },
  {
   "cell_type": "code",
   "execution_count": 30,
   "id": "0021220f-a1c8-41f9-8783-fdbd25b4ddee",
   "metadata": {},
   "outputs": [],
   "source": [
    "claims_data = pd.read_csv(\"claims.csv\")\n",
    "cust_data = pd.read_csv(\"cust_demographics.csv\")"
   ]
  },
  {
   "cell_type": "code",
   "execution_count": 31,
   "id": "d0f8d5da-3858-4746-83a7-51f1f4ab332b",
   "metadata": {},
   "outputs": [],
   "source": [
    "combine_data = cust_data.merge(claims_data, left_on = \"CUST_ID\",right_on = \"customer_id\" , how = \"inner\")\n",
    "combine_data.drop(\"customer_id\", inplace = True, axis = 1)"
   ]
  },
  {
   "cell_type": "markdown",
   "id": "b18b32be-d8c6-447d-8593-ebcdb852359c",
   "metadata": {},
   "source": [
    "### 2. Perform a data audit for the datatypes and find out if there are any mismatch within the current datatypes of the columns and their business significance."
   ]
  },
  {
   "cell_type": "code",
   "execution_count": 32,
   "id": "7fcdbbdd-20c1-45d8-9355-c5ea0c1b0e33",
   "metadata": {},
   "outputs": [
    {
     "name": "stdout",
     "output_type": "stream",
     "text": [
      "CUST_ID                  int64\n",
      "gender                  object\n",
      "DateOfBirth             object\n",
      "State                   object\n",
      "Contact                 object\n",
      "Segment                 object\n",
      "claim_id                 int64\n",
      "incident_cause          object\n",
      "claim_date              object\n",
      "claim_area              object\n",
      "police_report           object\n",
      "claim_type              object\n",
      "claim_amount            object\n",
      "total_policy_claims    float64\n",
      "fraudulent              object\n",
      "dtype: object\n"
     ]
    }
   ],
   "source": [
    "print(combine_data.dtypes)\n",
    "# dateofbirth - need to chnage to datetime\n",
    "# claim_date - need to chnage to datetime\n",
    "# claim_amount - need to chnage to int\n",
    "# contact - need to chnage to int\n"
   ]
  },
  {
   "cell_type": "markdown",
   "id": "23623d92-1f81-439e-b8c4-55b806864767",
   "metadata": {},
   "source": [
    "### 3. Convert the column claim_amount to numeric. Use the appropriate modules/attributes to remove the $ sign."
   ]
  },
  {
   "cell_type": "code",
   "execution_count": 33,
   "id": "b8ea20cc-a26e-4968-8f14-7d7ef22d2a81",
   "metadata": {},
   "outputs": [
    {
     "name": "stderr",
     "output_type": "stream",
     "text": [
      "C:\\Users\\Abdu rahuf\\AppData\\Local\\Temp\\ipykernel_7736\\3516642143.py:1: FutureWarning: The default value of regex will change from True to False in a future version. In addition, single character regular expressions will *not* be treated as literal strings when regex=True.\n",
      "  combine_data[\"claim_amount\"] = combine_data[\"claim_amount\"].str.replace(\"$\",\" \")\n"
     ]
    }
   ],
   "source": [
    "combine_data[\"claim_amount\"] = combine_data[\"claim_amount\"].str.replace(\"$\",\" \")\n",
    "combine_data[\"claim_amount\"] = combine_data[\"claim_amount\"].astype(float)\n"
   ]
  },
  {
   "cell_type": "code",
   "execution_count": 34,
   "id": "441b3e51-066a-4980-ada8-262ca9580b7b",
   "metadata": {},
   "outputs": [
    {
     "name": "stdout",
     "output_type": "stream",
     "text": [
      "float64\n"
     ]
    }
   ],
   "source": [
    "print(combine_data[\"claim_amount\"].dtypes)"
   ]
  },
  {
   "cell_type": "markdown",
   "id": "8ddc7774-6f27-44ab-a1f8-feb937e6f76a",
   "metadata": {},
   "source": [
    "### 4. Of all the injury claims, some of them have gone unreported with the police. Create an alert flag (1,0) for all such claims.\n"
   ]
  },
  {
   "cell_type": "code",
   "execution_count": 35,
   "id": "2a4fd052-8888-4b85-b58d-d4a9f0181568",
   "metadata": {},
   "outputs": [
    {
     "data": {
      "text/html": [
       "<div>\n",
       "<style scoped>\n",
       "    .dataframe tbody tr th:only-of-type {\n",
       "        vertical-align: middle;\n",
       "    }\n",
       "\n",
       "    .dataframe tbody tr th {\n",
       "        vertical-align: top;\n",
       "    }\n",
       "\n",
       "    .dataframe thead th {\n",
       "        text-align: right;\n",
       "    }\n",
       "</style>\n",
       "<table border=\"1\" class=\"dataframe\">\n",
       "  <thead>\n",
       "    <tr style=\"text-align: right;\">\n",
       "      <th></th>\n",
       "      <th>CUST_ID</th>\n",
       "      <th>gender</th>\n",
       "      <th>DateOfBirth</th>\n",
       "      <th>State</th>\n",
       "      <th>Contact</th>\n",
       "      <th>Segment</th>\n",
       "      <th>claim_id</th>\n",
       "      <th>incident_cause</th>\n",
       "      <th>claim_date</th>\n",
       "      <th>claim_area</th>\n",
       "      <th>police_report</th>\n",
       "      <th>claim_type</th>\n",
       "      <th>claim_amount</th>\n",
       "      <th>total_policy_claims</th>\n",
       "      <th>fraudulent</th>\n",
       "      <th>alert_flag</th>\n",
       "    </tr>\n",
       "  </thead>\n",
       "  <tbody>\n",
       "    <tr>\n",
       "      <th>0</th>\n",
       "      <td>21868593</td>\n",
       "      <td>Female</td>\n",
       "      <td>12-Jan-79</td>\n",
       "      <td>VT</td>\n",
       "      <td>789-916-8172</td>\n",
       "      <td>Platinum</td>\n",
       "      <td>54004764</td>\n",
       "      <td>Driver error</td>\n",
       "      <td>11/27/2017</td>\n",
       "      <td>Auto</td>\n",
       "      <td>No</td>\n",
       "      <td>Material only</td>\n",
       "      <td>2980.0</td>\n",
       "      <td>1.0</td>\n",
       "      <td>No</td>\n",
       "      <td>0</td>\n",
       "    </tr>\n",
       "    <tr>\n",
       "      <th>1</th>\n",
       "      <td>75740424</td>\n",
       "      <td>Female</td>\n",
       "      <td>13-Jan-70</td>\n",
       "      <td>ME</td>\n",
       "      <td>265-543-1264</td>\n",
       "      <td>Silver</td>\n",
       "      <td>33985796</td>\n",
       "      <td>Crime</td>\n",
       "      <td>10/03/2018</td>\n",
       "      <td>Home</td>\n",
       "      <td>Unknown</td>\n",
       "      <td>Material only</td>\n",
       "      <td>2980.0</td>\n",
       "      <td>3.0</td>\n",
       "      <td>No</td>\n",
       "      <td>0</td>\n",
       "    </tr>\n",
       "    <tr>\n",
       "      <th>2</th>\n",
       "      <td>30308357</td>\n",
       "      <td>Female</td>\n",
       "      <td>11-Mar-84</td>\n",
       "      <td>TN</td>\n",
       "      <td>798-631-4758</td>\n",
       "      <td>Silver</td>\n",
       "      <td>53522022</td>\n",
       "      <td>Other driver error</td>\n",
       "      <td>02/02/2018</td>\n",
       "      <td>Auto</td>\n",
       "      <td>No</td>\n",
       "      <td>Material only</td>\n",
       "      <td>3369.5</td>\n",
       "      <td>1.0</td>\n",
       "      <td>Yes</td>\n",
       "      <td>0</td>\n",
       "    </tr>\n",
       "    <tr>\n",
       "      <th>3</th>\n",
       "      <td>30308357</td>\n",
       "      <td>Female</td>\n",
       "      <td>11-Mar-84</td>\n",
       "      <td>TN</td>\n",
       "      <td>798-631-4758</td>\n",
       "      <td>Silver</td>\n",
       "      <td>63017412</td>\n",
       "      <td>Driver error</td>\n",
       "      <td>04/04/2018</td>\n",
       "      <td>Auto</td>\n",
       "      <td>No</td>\n",
       "      <td>Material only</td>\n",
       "      <td>1950.0</td>\n",
       "      <td>6.0</td>\n",
       "      <td>No</td>\n",
       "      <td>0</td>\n",
       "    </tr>\n",
       "    <tr>\n",
       "      <th>4</th>\n",
       "      <td>47830476</td>\n",
       "      <td>Female</td>\n",
       "      <td>01-May-86</td>\n",
       "      <td>MA</td>\n",
       "      <td>413-187-7945</td>\n",
       "      <td>Silver</td>\n",
       "      <td>13015401</td>\n",
       "      <td>Natural causes</td>\n",
       "      <td>06/17/2018</td>\n",
       "      <td>Auto</td>\n",
       "      <td>No</td>\n",
       "      <td>Material only</td>\n",
       "      <td>1680.0</td>\n",
       "      <td>1.0</td>\n",
       "      <td>No</td>\n",
       "      <td>0</td>\n",
       "    </tr>\n",
       "    <tr>\n",
       "      <th>...</th>\n",
       "      <td>...</td>\n",
       "      <td>...</td>\n",
       "      <td>...</td>\n",
       "      <td>...</td>\n",
       "      <td>...</td>\n",
       "      <td>...</td>\n",
       "      <td>...</td>\n",
       "      <td>...</td>\n",
       "      <td>...</td>\n",
       "      <td>...</td>\n",
       "      <td>...</td>\n",
       "      <td>...</td>\n",
       "      <td>...</td>\n",
       "      <td>...</td>\n",
       "      <td>...</td>\n",
       "      <td>...</td>\n",
       "    </tr>\n",
       "    <tr>\n",
       "      <th>1080</th>\n",
       "      <td>79539873</td>\n",
       "      <td>Female</td>\n",
       "      <td>15-Mar-81</td>\n",
       "      <td>ND</td>\n",
       "      <td>459-425-4319</td>\n",
       "      <td>Platinum</td>\n",
       "      <td>62020796</td>\n",
       "      <td>Other driver error</td>\n",
       "      <td>09/06/2018</td>\n",
       "      <td>Auto</td>\n",
       "      <td>Yes</td>\n",
       "      <td>Material only</td>\n",
       "      <td>1770.0</td>\n",
       "      <td>1.0</td>\n",
       "      <td>No</td>\n",
       "      <td>1</td>\n",
       "    </tr>\n",
       "    <tr>\n",
       "      <th>1081</th>\n",
       "      <td>42364152</td>\n",
       "      <td>Female</td>\n",
       "      <td>07-Jul-96</td>\n",
       "      <td>ID</td>\n",
       "      <td>529-462-1635</td>\n",
       "      <td>Silver</td>\n",
       "      <td>63269067</td>\n",
       "      <td>Other causes</td>\n",
       "      <td>05/09/2017</td>\n",
       "      <td>Home</td>\n",
       "      <td>No</td>\n",
       "      <td>Material only</td>\n",
       "      <td>2800.0</td>\n",
       "      <td>1.0</td>\n",
       "      <td>No</td>\n",
       "      <td>0</td>\n",
       "    </tr>\n",
       "    <tr>\n",
       "      <th>1082</th>\n",
       "      <td>19888166</td>\n",
       "      <td>Male</td>\n",
       "      <td>11-Apr-90</td>\n",
       "      <td>WI</td>\n",
       "      <td>712-651-9613</td>\n",
       "      <td>Gold</td>\n",
       "      <td>22690595</td>\n",
       "      <td>Other driver error</td>\n",
       "      <td>05/15/2017</td>\n",
       "      <td>Auto</td>\n",
       "      <td>Yes</td>\n",
       "      <td>Injury only</td>\n",
       "      <td>33080.0</td>\n",
       "      <td>2.0</td>\n",
       "      <td>No</td>\n",
       "      <td>1</td>\n",
       "    </tr>\n",
       "    <tr>\n",
       "      <th>1083</th>\n",
       "      <td>11256802</td>\n",
       "      <td>Female</td>\n",
       "      <td>22-Oct-64</td>\n",
       "      <td>LA</td>\n",
       "      <td>469-345-5617</td>\n",
       "      <td>Silver</td>\n",
       "      <td>12376894</td>\n",
       "      <td>Other driver error</td>\n",
       "      <td>04/18/2017</td>\n",
       "      <td>Auto</td>\n",
       "      <td>No</td>\n",
       "      <td>Material only</td>\n",
       "      <td>2840.0</td>\n",
       "      <td>4.0</td>\n",
       "      <td>No</td>\n",
       "      <td>0</td>\n",
       "    </tr>\n",
       "    <tr>\n",
       "      <th>1084</th>\n",
       "      <td>61575264</td>\n",
       "      <td>Male</td>\n",
       "      <td>12-Jul-95</td>\n",
       "      <td>WY</td>\n",
       "      <td>182-385-1392</td>\n",
       "      <td>Gold</td>\n",
       "      <td>63226031</td>\n",
       "      <td>Natural causes</td>\n",
       "      <td>03/16/2017</td>\n",
       "      <td>Auto</td>\n",
       "      <td>No</td>\n",
       "      <td>Material only</td>\n",
       "      <td>1490.0</td>\n",
       "      <td>1.0</td>\n",
       "      <td>No</td>\n",
       "      <td>0</td>\n",
       "    </tr>\n",
       "  </tbody>\n",
       "</table>\n",
       "<p>1085 rows × 16 columns</p>\n",
       "</div>"
      ],
      "text/plain": [
       "       CUST_ID  gender DateOfBirth State       Contact   Segment  claim_id  \\\n",
       "0     21868593  Female   12-Jan-79    VT  789-916-8172  Platinum  54004764   \n",
       "1     75740424  Female   13-Jan-70    ME  265-543-1264    Silver  33985796   \n",
       "2     30308357  Female   11-Mar-84    TN  798-631-4758    Silver  53522022   \n",
       "3     30308357  Female   11-Mar-84    TN  798-631-4758    Silver  63017412   \n",
       "4     47830476  Female   01-May-86    MA  413-187-7945    Silver  13015401   \n",
       "...        ...     ...         ...   ...           ...       ...       ...   \n",
       "1080  79539873  Female   15-Mar-81    ND  459-425-4319  Platinum  62020796   \n",
       "1081  42364152  Female   07-Jul-96    ID  529-462-1635    Silver  63269067   \n",
       "1082  19888166    Male   11-Apr-90    WI  712-651-9613      Gold  22690595   \n",
       "1083  11256802  Female   22-Oct-64    LA  469-345-5617    Silver  12376894   \n",
       "1084  61575264    Male   12-Jul-95    WY  182-385-1392      Gold  63226031   \n",
       "\n",
       "          incident_cause  claim_date claim_area police_report     claim_type  \\\n",
       "0           Driver error  11/27/2017       Auto            No  Material only   \n",
       "1                  Crime  10/03/2018       Home       Unknown  Material only   \n",
       "2     Other driver error  02/02/2018       Auto            No  Material only   \n",
       "3           Driver error  04/04/2018       Auto            No  Material only   \n",
       "4         Natural causes  06/17/2018       Auto            No  Material only   \n",
       "...                  ...         ...        ...           ...            ...   \n",
       "1080  Other driver error  09/06/2018       Auto           Yes  Material only   \n",
       "1081        Other causes  05/09/2017       Home            No  Material only   \n",
       "1082  Other driver error  05/15/2017       Auto           Yes    Injury only   \n",
       "1083  Other driver error  04/18/2017       Auto            No  Material only   \n",
       "1084      Natural causes  03/16/2017       Auto            No  Material only   \n",
       "\n",
       "      claim_amount  total_policy_claims fraudulent  alert_flag  \n",
       "0           2980.0                  1.0         No           0  \n",
       "1           2980.0                  3.0         No           0  \n",
       "2           3369.5                  1.0        Yes           0  \n",
       "3           1950.0                  6.0         No           0  \n",
       "4           1680.0                  1.0         No           0  \n",
       "...            ...                  ...        ...         ...  \n",
       "1080        1770.0                  1.0         No           1  \n",
       "1081        2800.0                  1.0         No           0  \n",
       "1082       33080.0                  2.0         No           1  \n",
       "1083        2840.0                  4.0         No           0  \n",
       "1084        1490.0                  1.0         No           0  \n",
       "\n",
       "[1085 rows x 16 columns]"
      ]
     },
     "execution_count": 35,
     "metadata": {},
     "output_type": "execute_result"
    }
   ],
   "source": [
    "# 0 for unkonw or not reported and 1 for 0\n",
    "combine_data[\"alert_flag\"] = 0\n",
    "combine_data.loc[combine_data[\"police_report\"] == \"Yes\",\"alert_flag\"] = 1\n",
    "combine_data"
   ]
  },
  {
   "cell_type": "markdown",
   "id": "f5c28ca0-4f9f-4e18-8b07-ef6f65126360",
   "metadata": {},
   "source": [
    "### 5. One customer can claim for insurance more than once and in each claim,multiple categories of claims can be involved. However, customer ID should remain unique.\n",
    "    Retain the most recent observation and delete any duplicated records in the data based on the customer ID column"
   ]
  },
  {
   "cell_type": "code",
   "execution_count": 36,
   "id": "b601f42e-2409-461d-b1b9-b0556e54b64c",
   "metadata": {},
   "outputs": [
    {
     "data": {
      "text/html": [
       "<div>\n",
       "<style scoped>\n",
       "    .dataframe tbody tr th:only-of-type {\n",
       "        vertical-align: middle;\n",
       "    }\n",
       "\n",
       "    .dataframe tbody tr th {\n",
       "        vertical-align: top;\n",
       "    }\n",
       "\n",
       "    .dataframe thead th {\n",
       "        text-align: right;\n",
       "    }\n",
       "</style>\n",
       "<table border=\"1\" class=\"dataframe\">\n",
       "  <thead>\n",
       "    <tr style=\"text-align: right;\">\n",
       "      <th></th>\n",
       "      <th>CUST_ID</th>\n",
       "      <th>gender</th>\n",
       "      <th>DateOfBirth</th>\n",
       "      <th>State</th>\n",
       "      <th>Contact</th>\n",
       "      <th>Segment</th>\n",
       "      <th>claim_id</th>\n",
       "      <th>incident_cause</th>\n",
       "      <th>claim_date</th>\n",
       "      <th>claim_area</th>\n",
       "      <th>police_report</th>\n",
       "      <th>claim_type</th>\n",
       "      <th>claim_amount</th>\n",
       "      <th>total_policy_claims</th>\n",
       "      <th>fraudulent</th>\n",
       "      <th>alert_flag</th>\n",
       "    </tr>\n",
       "  </thead>\n",
       "  <tbody>\n",
       "    <tr>\n",
       "      <th>0</th>\n",
       "      <td>21868593</td>\n",
       "      <td>Female</td>\n",
       "      <td>12-Jan-79</td>\n",
       "      <td>VT</td>\n",
       "      <td>789-916-8172</td>\n",
       "      <td>Platinum</td>\n",
       "      <td>54004764</td>\n",
       "      <td>Driver error</td>\n",
       "      <td>2017-11-27</td>\n",
       "      <td>Auto</td>\n",
       "      <td>No</td>\n",
       "      <td>Material only</td>\n",
       "      <td>2980.0</td>\n",
       "      <td>1.0</td>\n",
       "      <td>No</td>\n",
       "      <td>0</td>\n",
       "    </tr>\n",
       "    <tr>\n",
       "      <th>1</th>\n",
       "      <td>75740424</td>\n",
       "      <td>Female</td>\n",
       "      <td>13-Jan-70</td>\n",
       "      <td>ME</td>\n",
       "      <td>265-543-1264</td>\n",
       "      <td>Silver</td>\n",
       "      <td>33985796</td>\n",
       "      <td>Crime</td>\n",
       "      <td>2018-10-03</td>\n",
       "      <td>Home</td>\n",
       "      <td>Unknown</td>\n",
       "      <td>Material only</td>\n",
       "      <td>2980.0</td>\n",
       "      <td>3.0</td>\n",
       "      <td>No</td>\n",
       "      <td>0</td>\n",
       "    </tr>\n",
       "    <tr>\n",
       "      <th>2</th>\n",
       "      <td>30308357</td>\n",
       "      <td>Female</td>\n",
       "      <td>11-Mar-84</td>\n",
       "      <td>TN</td>\n",
       "      <td>798-631-4758</td>\n",
       "      <td>Silver</td>\n",
       "      <td>53522022</td>\n",
       "      <td>Other driver error</td>\n",
       "      <td>2018-02-02</td>\n",
       "      <td>Auto</td>\n",
       "      <td>No</td>\n",
       "      <td>Material only</td>\n",
       "      <td>3369.5</td>\n",
       "      <td>1.0</td>\n",
       "      <td>Yes</td>\n",
       "      <td>0</td>\n",
       "    </tr>\n",
       "    <tr>\n",
       "      <th>3</th>\n",
       "      <td>47830476</td>\n",
       "      <td>Female</td>\n",
       "      <td>01-May-86</td>\n",
       "      <td>MA</td>\n",
       "      <td>413-187-7945</td>\n",
       "      <td>Silver</td>\n",
       "      <td>13015401</td>\n",
       "      <td>Natural causes</td>\n",
       "      <td>2018-06-17</td>\n",
       "      <td>Auto</td>\n",
       "      <td>No</td>\n",
       "      <td>Material only</td>\n",
       "      <td>1680.0</td>\n",
       "      <td>1.0</td>\n",
       "      <td>No</td>\n",
       "      <td>0</td>\n",
       "    </tr>\n",
       "    <tr>\n",
       "      <th>4</th>\n",
       "      <td>19269962</td>\n",
       "      <td>Male</td>\n",
       "      <td>13-May-77</td>\n",
       "      <td>NV</td>\n",
       "      <td>956-871-8691</td>\n",
       "      <td>Gold</td>\n",
       "      <td>22890252</td>\n",
       "      <td>Crime</td>\n",
       "      <td>2018-01-13</td>\n",
       "      <td>Auto</td>\n",
       "      <td>No</td>\n",
       "      <td>Material only</td>\n",
       "      <td>2680.0</td>\n",
       "      <td>1.0</td>\n",
       "      <td>No</td>\n",
       "      <td>0</td>\n",
       "    </tr>\n",
       "    <tr>\n",
       "      <th>...</th>\n",
       "      <td>...</td>\n",
       "      <td>...</td>\n",
       "      <td>...</td>\n",
       "      <td>...</td>\n",
       "      <td>...</td>\n",
       "      <td>...</td>\n",
       "      <td>...</td>\n",
       "      <td>...</td>\n",
       "      <td>...</td>\n",
       "      <td>...</td>\n",
       "      <td>...</td>\n",
       "      <td>...</td>\n",
       "      <td>...</td>\n",
       "      <td>...</td>\n",
       "      <td>...</td>\n",
       "      <td>...</td>\n",
       "    </tr>\n",
       "    <tr>\n",
       "      <th>1073</th>\n",
       "      <td>79539873</td>\n",
       "      <td>Female</td>\n",
       "      <td>15-Mar-81</td>\n",
       "      <td>ND</td>\n",
       "      <td>459-425-4319</td>\n",
       "      <td>Platinum</td>\n",
       "      <td>62020796</td>\n",
       "      <td>Other driver error</td>\n",
       "      <td>2018-09-06</td>\n",
       "      <td>Auto</td>\n",
       "      <td>Yes</td>\n",
       "      <td>Material only</td>\n",
       "      <td>1770.0</td>\n",
       "      <td>1.0</td>\n",
       "      <td>No</td>\n",
       "      <td>1</td>\n",
       "    </tr>\n",
       "    <tr>\n",
       "      <th>1074</th>\n",
       "      <td>42364152</td>\n",
       "      <td>Female</td>\n",
       "      <td>07-Jul-96</td>\n",
       "      <td>ID</td>\n",
       "      <td>529-462-1635</td>\n",
       "      <td>Silver</td>\n",
       "      <td>63269067</td>\n",
       "      <td>Other causes</td>\n",
       "      <td>2017-05-09</td>\n",
       "      <td>Home</td>\n",
       "      <td>No</td>\n",
       "      <td>Material only</td>\n",
       "      <td>2800.0</td>\n",
       "      <td>1.0</td>\n",
       "      <td>No</td>\n",
       "      <td>0</td>\n",
       "    </tr>\n",
       "    <tr>\n",
       "      <th>1075</th>\n",
       "      <td>19888166</td>\n",
       "      <td>Male</td>\n",
       "      <td>11-Apr-90</td>\n",
       "      <td>WI</td>\n",
       "      <td>712-651-9613</td>\n",
       "      <td>Gold</td>\n",
       "      <td>22690595</td>\n",
       "      <td>Other driver error</td>\n",
       "      <td>2017-05-15</td>\n",
       "      <td>Auto</td>\n",
       "      <td>Yes</td>\n",
       "      <td>Injury only</td>\n",
       "      <td>33080.0</td>\n",
       "      <td>2.0</td>\n",
       "      <td>No</td>\n",
       "      <td>1</td>\n",
       "    </tr>\n",
       "    <tr>\n",
       "      <th>1076</th>\n",
       "      <td>11256802</td>\n",
       "      <td>Female</td>\n",
       "      <td>22-Oct-64</td>\n",
       "      <td>LA</td>\n",
       "      <td>469-345-5617</td>\n",
       "      <td>Silver</td>\n",
       "      <td>12376894</td>\n",
       "      <td>Other driver error</td>\n",
       "      <td>2017-04-18</td>\n",
       "      <td>Auto</td>\n",
       "      <td>No</td>\n",
       "      <td>Material only</td>\n",
       "      <td>2840.0</td>\n",
       "      <td>4.0</td>\n",
       "      <td>No</td>\n",
       "      <td>0</td>\n",
       "    </tr>\n",
       "    <tr>\n",
       "      <th>1077</th>\n",
       "      <td>61575264</td>\n",
       "      <td>Male</td>\n",
       "      <td>12-Jul-95</td>\n",
       "      <td>WY</td>\n",
       "      <td>182-385-1392</td>\n",
       "      <td>Gold</td>\n",
       "      <td>63226031</td>\n",
       "      <td>Natural causes</td>\n",
       "      <td>2017-03-16</td>\n",
       "      <td>Auto</td>\n",
       "      <td>No</td>\n",
       "      <td>Material only</td>\n",
       "      <td>1490.0</td>\n",
       "      <td>1.0</td>\n",
       "      <td>No</td>\n",
       "      <td>0</td>\n",
       "    </tr>\n",
       "  </tbody>\n",
       "</table>\n",
       "<p>1078 rows × 16 columns</p>\n",
       "</div>"
      ],
      "text/plain": [
       "       CUST_ID  gender DateOfBirth State       Contact   Segment  claim_id  \\\n",
       "0     21868593  Female   12-Jan-79    VT  789-916-8172  Platinum  54004764   \n",
       "1     75740424  Female   13-Jan-70    ME  265-543-1264    Silver  33985796   \n",
       "2     30308357  Female   11-Mar-84    TN  798-631-4758    Silver  53522022   \n",
       "3     47830476  Female   01-May-86    MA  413-187-7945    Silver  13015401   \n",
       "4     19269962    Male   13-May-77    NV  956-871-8691      Gold  22890252   \n",
       "...        ...     ...         ...   ...           ...       ...       ...   \n",
       "1073  79539873  Female   15-Mar-81    ND  459-425-4319  Platinum  62020796   \n",
       "1074  42364152  Female   07-Jul-96    ID  529-462-1635    Silver  63269067   \n",
       "1075  19888166    Male   11-Apr-90    WI  712-651-9613      Gold  22690595   \n",
       "1076  11256802  Female   22-Oct-64    LA  469-345-5617    Silver  12376894   \n",
       "1077  61575264    Male   12-Jul-95    WY  182-385-1392      Gold  63226031   \n",
       "\n",
       "          incident_cause claim_date claim_area police_report     claim_type  \\\n",
       "0           Driver error 2017-11-27       Auto            No  Material only   \n",
       "1                  Crime 2018-10-03       Home       Unknown  Material only   \n",
       "2     Other driver error 2018-02-02       Auto            No  Material only   \n",
       "3         Natural causes 2018-06-17       Auto            No  Material only   \n",
       "4                  Crime 2018-01-13       Auto            No  Material only   \n",
       "...                  ...        ...        ...           ...            ...   \n",
       "1073  Other driver error 2018-09-06       Auto           Yes  Material only   \n",
       "1074        Other causes 2017-05-09       Home            No  Material only   \n",
       "1075  Other driver error 2017-05-15       Auto           Yes    Injury only   \n",
       "1076  Other driver error 2017-04-18       Auto            No  Material only   \n",
       "1077      Natural causes 2017-03-16       Auto            No  Material only   \n",
       "\n",
       "      claim_amount  total_policy_claims fraudulent  alert_flag  \n",
       "0           2980.0                  1.0         No           0  \n",
       "1           2980.0                  3.0         No           0  \n",
       "2           3369.5                  1.0        Yes           0  \n",
       "3           1680.0                  1.0         No           0  \n",
       "4           2680.0                  1.0         No           0  \n",
       "...            ...                  ...        ...         ...  \n",
       "1073        1770.0                  1.0         No           1  \n",
       "1074        2800.0                  1.0         No           0  \n",
       "1075       33080.0                  2.0         No           1  \n",
       "1076        2840.0                  4.0         No           0  \n",
       "1077        1490.0                  1.0         No           0  \n",
       "\n",
       "[1078 rows x 16 columns]"
      ]
     },
     "execution_count": 36,
     "metadata": {},
     "output_type": "execute_result"
    }
   ],
   "source": [
    "combine_data[\"claim_date\"] = pd.to_datetime(combine_data[\"claim_date\"] , format = \"%m/%d/%Y\")\n",
    "combine_data.sort_values(\"claim_date\", ascending = False)\n",
    "combine_data.drop_duplicates(subset = \"CUST_ID\" , keep = \"first\", inplace = True)\n",
    "combine_data.reset_index(drop = True)"
   ]
  },
  {
   "cell_type": "markdown",
   "id": "368dd78e-48fc-4832-bfef-974392c5fd8f",
   "metadata": {},
   "source": [
    "### 6. Check for missing values and impute the missing values with an appropriate value. (mean for continuous and mode for categorical)"
   ]
  },
  {
   "cell_type": "code",
   "execution_count": 37,
   "id": "a3fc66d6-b743-4c70-a688-1e9f1dc157fb",
   "metadata": {},
   "outputs": [
    {
     "data": {
      "text/plain": [
       "CUST_ID                0\n",
       "gender                 0\n",
       "DateOfBirth            0\n",
       "State                  0\n",
       "Contact                0\n",
       "Segment                0\n",
       "claim_id               0\n",
       "incident_cause         0\n",
       "claim_date             0\n",
       "claim_area             0\n",
       "police_report          0\n",
       "claim_type             0\n",
       "claim_amount           0\n",
       "total_policy_claims    0\n",
       "fraudulent             0\n",
       "alert_flag             0\n",
       "dtype: int64"
      ]
     },
     "execution_count": 37,
     "metadata": {},
     "output_type": "execute_result"
    }
   ],
   "source": [
    "# cheking for null value\n",
    "combine_data.isnull().sum()\n",
    "# mean value for claim amount\n",
    "mean_claim_amount = round(combine_data[\"claim_amount\"].mean(),2)\n",
    "# mean value for total policy claim\n",
    "total_policy_claims_mean = round(combine_data[\"total_policy_claims\"].mean())\n",
    "#replacing null value with mean value\n",
    "combine_data.loc[combine_data[\"claim_amount\"].isna() , \"claim_amount\" ] = mean_claim_amount\n",
    "combine_data.loc[combine_data[\"total_policy_claims\"].isna() , \"total_policy_claims\" ] = total_policy_claims_mean\n",
    "combine_data.isnull().sum()"
   ]
  },
  {
   "cell_type": "markdown",
   "id": "a029853b-58f6-466c-8faa-0fe7ba460c82",
   "metadata": {},
   "source": [
    "### 7. Calculate the age of customers in years. Based on the age, categorize thecustomers according to the below criteria\n",
    "    Children < 18\n",
    "    Youth 18-30\n",
    "    Adult 30-60\n",
    "    Senior > 60"
   ]
  },
  {
   "cell_type": "code",
   "execution_count": 38,
   "id": "d5f8f141-7f0d-4cc0-bde1-729380cfee91",
   "metadata": {},
   "outputs": [
    {
     "name": "stdout",
     "output_type": "stream",
     "text": [
      "datetime64[ns]\n"
     ]
    }
   ],
   "source": [
    "# converting date of birth column to datetime\n",
    "combine_data[\"DateOfBirth\"] = pd.to_datetime(combine_data[\"DateOfBirth\"], format = (\"%d-%b-%y\"))\n",
    "print(combine_data[\"DateOfBirth\"].dtype)\n"
   ]
  },
  {
   "cell_type": "code",
   "execution_count": 39,
   "id": "088c2e9a-37fe-4d97-8966-0470b05ce770",
   "metadata": {},
   "outputs": [],
   "source": [
    "# correcting the mistake in date of birth, some dob show negative age,\n",
    "combine_data[\"DateOfBirth\"] = combine_data.apply(lambda x: x[\"DateOfBirth\"] - timedelta(days=365*100) if x[\"DateOfBirth\"].year > 2023 else x[\"DateOfBirth\"], axis=1)\n",
    "combine_data[\"Age\"] =dt.datetime.now().year - combine_data[\"DateOfBirth\"].dt.year "
   ]
  },
  {
   "cell_type": "code",
   "execution_count": 40,
   "id": "c5d70182-f1d8-4ce4-8108-9e6959215795",
   "metadata": {},
   "outputs": [],
   "source": [
    "Children = combine_data[combine_data[\"Age\"] < 18]\n",
    "# There is no data available for students.\n",
    "Youth = combine_data[(combine_data[\"Age\"] > 18) & (combine_data[\"Age\"] <= 30 )]\n",
    "Adult = combine_data[(combine_data[\"Age\"] > 30) & (combine_data[\"Age\"] <= 60 )]\n",
    "Senior = combine_data[combine_data[\"Age\"] > 60]\n"
   ]
  },
  {
   "cell_type": "markdown",
   "id": "aff4c94e-6a32-4d81-9a2e-aa1ff38c8791",
   "metadata": {},
   "source": [
    "### 8. What is the average amount claimed by the customers from various segments?\n"
   ]
  },
  {
   "cell_type": "code",
   "execution_count": 41,
   "id": "1f8e5860-c55d-4a73-babf-48dbc13690d8",
   "metadata": {},
   "outputs": [
    {
     "name": "stdout",
     "output_type": "stream",
     "text": [
      "average claim amount by  youths: 11848.76\n",
      "average claim amount by adults : 12613.94\n",
      "average claim amount by seniors : 12677.71\n"
     ]
    }
   ],
   "source": [
    "# average claim amount by  youth\n",
    "youth_mean_cliam_amt= round(Youth[\"claim_amount\"].mean(),2)\n",
    "# average claim amount by  adult\n",
    "adult_mean_cliam_amt = round(Adult[\"claim_amount\"].mean(),2)\n",
    "# average claim amount by  senior\n",
    "senior_mean_cliam_amt = round(Senior[\"claim_amount\"].mean(),2)\n",
    "print(f\"average claim amount by  youths: {youth_mean_cliam_amt}\")\n",
    "print(f\"average claim amount by adults : {adult_mean_cliam_amt}\")\n",
    "print(f\"average claim amount by seniors : {senior_mean_cliam_amt}\")"
   ]
  },
  {
   "cell_type": "markdown",
   "id": "8ea3bcc3-d740-49c2-9959-6eee4af8c296",
   "metadata": {},
   "source": [
    "### 10 What is the total claim amount based on incident cause for all the claims that have been done at least 20 days prior to 1st of October, 2018"
   ]
  },
  {
   "cell_type": "code",
   "execution_count": 42,
   "id": "9b9f8842-1f6c-4525-b57b-803ffe1c8d20",
   "metadata": {},
   "outputs": [
    {
     "data": {
      "text/plain": [
       "incident_cause\n",
       "Crime                  724462.5\n",
       "Driver error          3264286.0\n",
       "Natural causes        1312706.0\n",
       "Other causes          3725038.5\n",
       "Other driver error    3318806.5\n",
       "Name: claim_amount, dtype: float64"
      ]
     },
     "execution_count": 42,
     "metadata": {},
     "output_type": "execute_result"
    }
   ],
   "source": [
    "# 20 days prior to 1st oct 2018, ie 10th sep 2018\n",
    "date = dt.datetime(2018, 9, 10)\n",
    "claim_date_befor_sep_10 = combine_data[combine_data[\"claim_date\"] <= date]\n",
    "claim_amt_bfr_oct_10 = claim_date_befor_sep_10.groupby(\"incident_cause\")[\"claim_amount\"].sum()\n",
    "claim_amt_bfr_oct_10\n"
   ]
  },
  {
   "cell_type": "markdown",
   "id": "10c8db03-ef0d-4399-aa9d-fe57d21a2e48",
   "metadata": {},
   "source": [
    "### 10. How many adults from TX, DE and AK claimed insurance for driver related issues and causes? "
   ]
  },
  {
   "cell_type": "code",
   "execution_count": 43,
   "id": "6a562379-b182-4548-ba16-55154f152345",
   "metadata": {},
   "outputs": [
    {
     "name": "stdout",
     "output_type": "stream",
     "text": [
      "No.of adults from TX, DE and AK claimed insurance for driver related issues and causes is : 27\n"
     ]
    }
   ],
   "source": [
    "filter_state = Adult[Adult[\"State\"].isin([\"TX\",\"DE\",\"AK\"])]\n",
    "no_of_claim = filter_state[\"incident_cause\"].isin([\"Driver error\",\"Other driver error\"]).sum()\n",
    "print(f\"No.of adults from TX, DE and AK claimed insurance for driver related issues and causes is : {no_of_claim}\")"
   ]
  },
  {
   "cell_type": "markdown",
   "id": "32dbc40b-fe8d-46c5-9705-f5e05e9fb5e0",
   "metadata": {},
   "source": [
    "### 11. Draw a pie chart between the aggregated value of claim amount based on gender and segment. Represent the claim amount as a percentage onthe pie chart.\n"
   ]
  },
  {
   "cell_type": "code",
   "execution_count": 44,
   "id": "2cecb3c2-88ca-4aee-9abb-00f2c4fc3c3a",
   "metadata": {},
   "outputs": [
    {
     "data": {
      "image/png": "[encoded data removed]",
      "text/plain": [
       "<Figure size 1350x900 with 2 Axes>"
      ]
     },
     "metadata": {},
     "output_type": "display_data"
    }
   ],
   "source": [
    "gender_claim = combine_data.groupby(\"gender\")[\"claim_amount\"].sum()\n",
    "total_claim_amt = combine_data[\"claim_amount\"].sum()\n",
    "gender_claim_percentage = round((gender_claim/total_claim_amt)*100, 1)\n",
    "segment_claim = combine_data.groupby(\"Segment\")[\"claim_amount\"].sum()\n",
    "segment_claim_percentage = round((segment_claim/total_claim_amt)*100, 1)\n",
    "\n",
    "# Plotting pie chart for gender\n",
    "plt.figure(figsize=(13.5, 9))\n",
    "plt.subplot(1, 2, 1)\n",
    "plt.pie(x=gender_claim_percentage,  labeldistance=0.5, autopct='%1.1f%%')\n",
    "handles = gender_claim_percentage.index\n",
    "plt.legend( handles, title = \"Gender\")\n",
    "plt.title(\"Claim Amount by Gender\")\n",
    "\n",
    "# Plotting pie chart for segment\n",
    "plt.subplot(1, 2, 2)\n",
    "plt.pie(x=segment_claim_percentage, labeldistance=1.1, autopct='%1.1f%%')\n",
    "handles = segment_claim_percentage.index\n",
    "plt.legend( handles, title = \"Segment\")\n",
    "plt.title(\"Claim Amount by Segment\")\n",
    "\n",
    "plt.show()\n"
   ]
  },
  {
   "cell_type": "markdown",
   "id": "21b6d44e-cc4b-43c2-955e-a3f5dad48953",
   "metadata": {},
   "source": [
    "### 12. Among males and females, which gender had claimed the most for any type of driver related issues? E.g. This metric can be compared using a bar chart"
   ]
  },
  {
   "cell_type": "code",
   "execution_count": 45,
   "id": "185a2197-b9af-4cf6-b61b-96ac841e353e",
   "metadata": {},
   "outputs": [
    {
     "data": {
      "image/png": "[encoded data removed]",
      "text/plain": [
       "<Figure size 640x480 with 1 Axes>"
      ]
     },
     "metadata": {},
     "output_type": "display_data"
    }
   ],
   "source": [
    "Driver_issue = combine_data[\"incident_cause\"].isin([\"Driver error\",\"Other driver error\"])\n",
    "Driver_issue_gender = combine_data.groupby(\"gender\",)[\"claim_amount\"].sum()\n",
    "# Plot the bar chart\n",
    "Driver_issue_gender.plot(kind='bar', color='red')\n",
    "plt.xlabel('Gender')\n",
    "plt.ylabel('Claim Amount')\n",
    "plt.title('Claim Amount by Gender for Driver-related issues')\n",
    "plt.show()\n"
   ]
  },
  {
   "cell_type": "markdown",
   "id": "fd2e2854-7f0b-47d8-99a5-6c9a5a87220c",
   "metadata": {},
   "source": [
    "### 13. Which age group had the maximum fraudulent policy claims? Visualize it on a bar chart.\n"
   ]
  },
  {
   "cell_type": "code",
   "execution_count": 46,
   "id": "34789d61-32ad-442e-829e-638f1d43d268",
   "metadata": {},
   "outputs": [
    {
     "data": {
      "image/png": "[encoded data removed]",
      "text/plain": [
       "<Figure size 640x480 with 1 Axes>"
      ]
     },
     "metadata": {},
     "output_type": "display_data"
    }
   ],
   "source": [
    "youth_fraudulent = (Youth[\"fraudulent\"] == \"Yes\").sum()\n",
    "adult_fraudulent =  (Adult[\"fraudulent\"] == \"Yes\").sum()\n",
    "senior_fraudulent =  (Senior[\"fraudulent\"] == \"Yes\").sum()\n",
    "\n",
    "fraudulent_data = {\"Youth\" : youth_fraudulent ,\n",
    "                  \"Adult\" : adult_fraudulent,\n",
    "                  \"Senior\" : senior_fraudulent }\n",
    "# Plot the bar chart\n",
    "sns.barplot(x=list(fraudulent_data.keys()), y=list(fraudulent_data.values()))\n",
    "plt.xlabel(\"Age Group\")\n",
    "plt.ylabel(\"Number of Fraudulent Claims\")\n",
    "plt.title(\"Fraudulent Claims by Age Group\")\n",
    "plt.show()"
   ]
  },
  {
   "cell_type": "code",
   "execution_count": 47,
   "id": "44a52c7e-9a56-46b3-9051-30579efd2d39",
   "metadata": {},
   "outputs": [
    {
     "data": {
      "text/plain": [
       "247"
      ]
     },
     "execution_count": 47,
     "metadata": {},
     "output_type": "execute_result"
    }
   ],
   "source": [
    "(combine_data[\"fraudulent\"] == \"Yes\").sum()"
   ]
  },
  {
   "cell_type": "markdown",
   "id": "968d11a8-655b-4a99-9d2b-4361bdcc6669",
   "metadata": {},
   "source": [
    "### 14. Visualize the monthly trend of the total amount that has been claimed by the customers. Ensure that on the “month” axis, the month is in a chronological order not alphabetical order"
   ]
  },
  {
   "cell_type": "code",
   "execution_count": 48,
   "id": "0dde5bf7-e296-467b-8175-ed041385326a",
   "metadata": {},
   "outputs": [
    {
     "data": {
      "image/png": "[encoded data removed]",
      "text/plain": [
       "<Figure size 1350x900 with 1 Axes>"
      ]
     },
     "metadata": {},
     "output_type": "display_data"
    }
   ],
   "source": [
    "combine_data[\"Month\"] = combine_data[\"claim_date\"].dt.strftime(\"%b\")\n",
    "monthly_claim = combine_data.groupby(\"Month\")[\"claim_amount\"].sum()\n",
    "monthly_claim = monthly_claim.reindex(['Jan','Feb','Mar','Apr','May','Jun','Jul','Aug','Sep','Oct','Nov','Dec'])\n",
    "\n",
    "\n",
    "plt.figure(figsize = (13.5,9))\n",
    "sns.barplot(x = monthly_claim.index ,  y = monthly_claim.values)\n",
    "plt.xlabel('Month')\n",
    "plt.ylabel('Claim Amount')\n",
    "plt.title('Monthly Trend of Total Claim Amount')\n",
    "plt.show()\n"
   ]
  },
  {
   "cell_type": "markdown",
   "id": "4d7a66ba-f607-4e71-9a48-55e27622bb9b",
   "metadata": {},
   "source": [
    "### 15. What is the average claim amount for gender and age categories and suitably represent the above using a facetted bar chart, one facet that represents fraudulent claims and the other for non-fraudulent claims."
   ]
  },
  {
   "cell_type": "code",
   "execution_count": 49,
   "id": "3a10607b-0180-4541-85fc-58b408872f35",
   "metadata": {},
   "outputs": [
    {
     "data": {
      "image/png": "[encoded data removed]",
      "text/plain": [
       "<Figure size 1350x900 with 2 Axes>"
      ]
     },
     "metadata": {},
     "output_type": "display_data"
    }
   ],
   "source": [
    "# adding age category for combine data from youth, adult and seniors\n",
    "combine_data[\"age_cat\"] = np.where(combine_data[\"CUST_ID\"].isin(Youth[\"CUST_ID\"]), \"youth\", np.where(combine_data[\"CUST_ID\"].isin(Adult[\"CUST_ID\"]), \"adult\", \"senior\"))\n",
    "# grouping by gender and age cat\n",
    "age_fradudulent_mean = round(combine_data.groupby([\"age_cat\",\"fraudulent\"])[\"claim_amount\"].mean().reset_index(),2)\n",
    "gender_fradudulent_mean = round(combine_data.groupby([\"gender\",\"fraudulent\"])[\"claim_amount\"].mean().reset_index(),2)\n",
    "# plot gacetted bar\n",
    "\n",
    "plt.figure(figsize=(13.5, 9))\n",
    "plt.subplot(1,2,1)\n",
    "sns.barplot(x = \"age_cat\" , y = \"claim_amount\" , hue = \"fraudulent\" , data =age_fradudulent_mean )\n",
    "plt.title(\"Average Claim Amount by Age Category\")\n",
    "plt.xlabel(\"Age Category\")\n",
    "plt.ylabel(\"Average Claim Amount\")\n",
    "\n",
    "\n",
    "plt.subplot(1,2,2)\n",
    "sns.barplot(x = \"gender\" , y = \"claim_amount\" , hue = \"fraudulent\" , data =gender_fradudulent_mean )\n",
    "plt.title(\"Average Claim Amount by Gender\")\n",
    "plt.xlabel(\"Gender\")\n",
    "plt.ylabel(\"Average Claim Amount\")\n",
    "\n",
    "plt.show()\n"
   ]
  },
  {
   "cell_type": "markdown",
   "id": "4495caac-f834-4d49-a99f-15bc4d592b4d",
   "metadata": {},
   "source": [
    "### 16. Is there any similarity in the amount claimed by males and females?\n"
   ]
  },
  {
   "cell_type": "markdown",
   "id": "ebd23f6e-464a-4db5-886a-c71878d6dc8b",
   "metadata": {},
   "source": [
    "##### we need to find any simalarities or relationship between claimed between gender and claim amount\n",
    "    we can  find similarities by performing statistical hypothesis test \n",
    "    here we can perform a two-sample t-test to compare the mean amount claimed by males and females. \n",
    "##### steps in hypothetical testing:\n",
    "    - Formulate the null and alternative hypothesis:\n",
    "    H0(null hypothesis): There is no difference in the mean amount claimed by males and females (μ1 - μ2 = 0)\n",
    "    Ha(alternative hypothesis): There is a difference in the mean amount claimed by males and females (μ1 - μ2 ≠ 0)\n",
    "    - Set the significance level:\n",
    "    Let's set the significance level at 0.05, meaning we are 95% confident in our results.\n",
    "    - Calculate the t-statistic:\n",
    "    - Determine the degrees of freedom:\n",
    "    - Obtain the p-value:\n",
    "    - Make a conclusion:\n",
    "    If the p-value is less than the significance level (0.05), we reject the null hypothesis and conclude that there is a significant difference in the mean amount claimed by males and females. If the p-value is greater than the significance level, we fail to reject the null hypothesis and conclude that there is no significant difference in the mean amount claimed by males and females.\n",
    "    - Interpret the results:\n",
    "    if their significance differernce in mean amount claimed by the male and female, insure company can change their bussines policies according\n",
    "    "
   ]
  },
  {
   "cell_type": "code",
   "execution_count": 50,
   "id": "efdec83c-ad91-4cb5-8db6-46ebcbedfcba",
   "metadata": {},
   "outputs": [
    {
     "name": "stdout",
     "output_type": "stream",
     "text": [
      "p value is 0.376,  Fail to reject the null hypothesis. There is a significant difference in the mean amount claimed by males and females.\n"
     ]
    }
   ],
   "source": [
    "# Separate the data set based on the gender\n",
    "males = combine_data[combine_data[\"gender\"] == \"Male\"]\n",
    "females = combine_data[combine_data[\"gender\"] == \"Female\"]\n",
    "\n",
    "# Perform the two-sample t-test\n",
    "t_statistic, p_value = stats.ttest_ind(males[\"claim_amount\"], females[\"claim_amount\"], equal_var=False)\n",
    "\n",
    "# setting significance value is 0.05\n",
    "if p_value < 0.05:\n",
    "    print (f\"p value is {round(p_value,3)}, so Rejecting the null hypothesis. There is a significant difference in the mean amount claimed by males and females.\")\n",
    "else:\n",
    "    print (f\"p value is {round(p_value,3)},  Fail to reject the null hypothesis. There is a significant difference in the mean amount claimed by males and females.\")\n",
    "        "
   ]
  },
  {
   "cell_type": "markdown",
   "id": "7ff36944-9080-40a2-863a-56f93413b55f",
   "metadata": {},
   "source": [
    "### 17. Is there any relationship between age category and segment?\n"
   ]
  },
  {
   "cell_type": "markdown",
   "id": "186be41e-1bd9-4561-944c-2ff4b4e80ea6",
   "metadata": {},
   "source": [
    "Here both category and segment are categorical variable. To find relationship between two categorical variable chi-square test is used.\n",
    "The p-value is calculated from the chi-square statistic and is used to determine the significance of the relationship. A p-value less than 0.05 is considered significant and provides evidence that the two variables are related. If the p-value is greater than 0.05, it is concluded that there is not enough evidence to support a relationship between the two variables\n",
    "\n",
    "    H0(null hypothesis): There is no relationship between age category and segment\n",
    "    Ha(alternative hypothesis): There is a relationship between age category and segment"
   ]
  },
  {
   "cell_type": "code",
   "execution_count": 51,
   "id": "0cb3da1f-d127-40b2-95b1-5c8f4836709a",
   "metadata": {},
   "outputs": [
    {
     "name": "stdout",
     "output_type": "stream",
     "text": [
      "Expected frequencies: \n",
      " [[274.98051948 267.56864564 256.45083488]\n",
      " [ 24.43506494  23.77643785  22.78849722]\n",
      " [ 71.58441558  69.65491651  66.7606679 ]]\n",
      "Chi-square statistic:  0.28\n",
      "P-value:  0.99\n",
      "Degree of Freedom:  4\n",
      "The null hypothesis is accepted. There is no relationship between age category and segment\n"
     ]
    }
   ],
   "source": [
    "# Get the frequency count of each combination of age_cat and segment\n",
    "table = pd.crosstab(combine_data[\"age_cat\"], combine_data[\"Segment\"])\n",
    "\n",
    "# Perform the chi-square test for independence\n",
    "stat, p, dof, expected = stats.chi2_contingency(table)\n",
    "\n",
    "# Print the results\n",
    "print(\"Expected frequencies: \\n\", expected)\n",
    "print(\"Chi-square statistic: \", round(stat,2))\n",
    "print(\"P-value: \", round(p,2))\n",
    "print(\"Degree of Freedom: \", dof)\n",
    "\n",
    "\n",
    "if p < 0.05:\n",
    "    print(\"The null hypothesis is rejected. There is a relationship between age category and segment\")\n",
    "else:\n",
    "    print(\"The null hypothesis is accepted. There is no relationship between age category and segment\")\n"
   ]
  },
  {
   "cell_type": "markdown",
   "id": "0db613d7-a80d-45ba-8517-ffb4689476db",
   "metadata": {},
   "source": [
    "### 18. The current year has shown a significant rise in claim amounts as compared to 2016-17 fiscal average which was $10,000"
   ]
  },
  {
   "cell_type": "markdown",
   "id": "7cdae04d-1e71-4a26-9a3e-416a768cf09c",
   "metadata": {},
   "source": [
    "here we are comparing claim amount of current year to 2016-17 fisical year. its a continoues variable, so here t value test is used.\n",
    "here\n",
    "##### null hypothesis :\n",
    "    the average claim amount in the current year is not significantly different from the average claim amount in the 2016-17 fiscal year, which was $10,000.\n",
    "##### alternative hypothesis:\n",
    "     average claim amount in the current year is significantly different from the average claim amount in the 2016-17 fiscal year.\n",
    "    \n",
    "    If the p-value from the t-test is less than our significance level,  (usually 0.05), then we can reject the null hypothesis \n",
    "    If the p-value is greater than α, we cannot reject the null hypothesis "
   ]
  },
  {
   "cell_type": "code",
   "execution_count": 52,
   "id": "c1cc74fc-ce3c-477a-bc0d-8f002feeb942",
   "metadata": {
    "tags": []
   },
   "outputs": [
    {
     "name": "stdout",
     "output_type": "stream",
     "text": [
      "Reject the null hypothesis. There is a significant difference in the mean amount claimed by males and females.\n"
     ]
    },
    {
     "name": "stderr",
     "output_type": "stream",
     "text": [
      "C:\\Users\\Abdu rahuf\\AppData\\Local\\Temp\\ipykernel_7736\\2997281232.py:5: RuntimeWarning: Precision loss occurred in moment calculation due to catastrophic cancellation. This occurs when the data are nearly identical. Results may be unreliable.\n",
      "  t_statistic, p_value  = stats.ttest_ind(current_year[\"claim_amount\"], [fiscal_year_mean for i in range(len(current_year))])\n"
     ]
    }
   ],
   "source": [
    "current_year = combine_data.loc[combine_data[\"claim_date\"].dt.year == 2018]\n",
    "fiscal_year_mean = 10000\n",
    "\n",
    "# Perform the two-sample t-test\n",
    "t_statistic, p_value  = stats.ttest_ind(current_year[\"claim_amount\"], [fiscal_year_mean for i in range(len(current_year))])\n",
    "\n",
    "if p_value < 0.05:\n",
    "    print(\"Reject the null hypothesis. There is a significant difference in the mean amount claimed by males and females.\")\n",
    "else:\n",
    "    print(\"Fail to reject the null hypothesis. There is no significant difference in the mean amount claimed by males and females.\")"
   ]
  },
  {
   "cell_type": "markdown",
   "id": "9c7e1abc-2bfb-4f75-a83b-ff10ddf2c13a",
   "metadata": {},
   "source": [
    "### 19. Is there any difference between age groups and insurance claims?"
   ]
  },
  {
   "cell_type": "markdown",
   "id": "03013ca1-4fa5-42ca-87fd-962e6cc759c4",
   "metadata": {},
   "source": [
    "To determine if there is a difference between age groups and insurance claims, we can perform a statistical hypothesis test. One commonly used test for comparing multiple groups is the analysis of variance (ANOVA).\n",
    "#####   null hypotheses\n",
    "    there is no difference in insurance claims between age groups\n",
    "#####    alternative hypothesis :\n",
    "     there is a difference in insurance claims between age groups.\n",
    "     \n",
    "     Choose the significance level. A commonly used significance level is 5%.\n",
    "\n",
    "    Check the assumptions of the ANOVA. \n",
    "    This includes checking that the residuals are normally distributed and that the variances of the groups are equal.\n",
    "\n",
    "    Conduct the ANOVA. This involves calculating the F-statistic and the p-value.\n",
    "   "
   ]
  },
  {
   "cell_type": "code",
   "execution_count": 53,
   "id": "b43d2639-cba9-4a79-8b4b-810df5a6b42a",
   "metadata": {},
   "outputs": [
    {
     "name": "stdout",
     "output_type": "stream",
     "text": [
      "There is no difference in insurance claims between age groups.\n"
     ]
    }
   ],
   "source": [
    "\n",
    "# Extract the insurance claim data for each age group\n",
    "youth_claims = combine_data[combine_data[\"age_cat\"] == \"youth\"][\"claim_amount\"]\n",
    "adult_claims = combine_data[combine_data[\"age_cat\"] == \"adult\"][\"claim_amount\"]\n",
    "senior_claims = combine_data[combine_data[\"age_cat\"] == \"senior\"][\"claim_amount\"]\n",
    "\n",
    "# Perform the ANOVA\n",
    "f_statistic, p_value = stats.f_oneway(youth_claims, adult_claims, senior_claims)\n",
    "\n",
    "# Check if the p-value is less than the significance level\n",
    "if p_value < 0.05:\n",
    "    print(\"There is a difference in insurance claims between age groups.\")\n",
    "else:\n",
    "    print(\"There is no difference in insurance claims between age groups.\")\n"
   ]
  },
  {
   "cell_type": "code",
   "execution_count": 54,
   "id": "8b4c121d-e003-4292-bbce-6af6e916fcc7",
   "metadata": {},
   "outputs": [
    {
     "data": {
      "text/plain": [
       "0.27921087785941784"
      ]
     },
     "execution_count": 54,
     "metadata": {},
     "output_type": "execute_result"
    }
   ],
   "source": [
    "f_statistic"
   ]
  },
  {
   "cell_type": "markdown",
   "id": "8373e48c-1110-4591-af42-4385a2a2b319",
   "metadata": {},
   "source": [
    "### 20. Is there any relationship between total number of policy claims and the claimed amount?"
   ]
  },
  {
   "cell_type": "markdown",
   "id": "0ca7d96b-bbb3-469b-9f9d-4146623bc46b",
   "metadata": {},
   "source": [
    "Null Hypothesis (H0): There is no significant relationship between the total number of policy claims and the claimed amount.\n",
    "\n",
    "Alternative Hypothesis (H1): There is a significant relationship between the total number of policy claims and the claimed amount.\n",
    "\n",
    "Set the significance level: Let's set the significance level at 0.05, meaning we are 95% confident in our results."
   ]
  },
  {
   "cell_type": "code",
   "execution_count": 61,
   "id": "8c3f5c65-9526-4228-b81f-73ac5b4082bf",
   "metadata": {},
   "outputs": [
    {
     "name": "stdout",
     "output_type": "stream",
     "text": [
      "There is a significant relationship between the total number of policy claims and the claimed amount.\n"
     ]
    }
   ],
   "source": [
    "from scipy.stats import pearsonr\n",
    "\n",
    "# Calculate the Pearson correlation coefficient\n",
    "corr, p = pearsonr(combine_data[\"total_policy_claims\"], combine_data[\"claim_amount\"])\n",
    "\n",
    "if p_value < 0.05:\n",
    "    print(\"There is no significant relationship between the total number of policy claims and the claimed amount.\")\n",
    "else:\n",
    "    print(\"There is a significant relationship between the total number of policy claims and the claimed amount.\")\n"
   ]
  },
  {
   "cell_type": "code",
   "execution_count": null,
   "id": "d03d033b-1a43-4c6e-9276-10990b856983",
   "metadata": {},
   "outputs": [],
   "source": []
  },
  {
   "cell_type": "code",
   "execution_count": null,
   "id": "461e288f-08d4-4f2c-b034-d6120ae2ba6d",
   "metadata": {},
   "outputs": [],
   "source": []
  }
 ],
 "metadata": {
  "kernelspec": {
   "display_name": "Python 3 (ipykernel)",
   "language": "python",
   "name": "python3"
  },
  "language_info": {
   "codemirror_mode": {
    "name": "ipython",
    "version": 3
   },
   "file_extension": ".py",
   "mimetype": "text/x-python",
   "name": "python",
   "nbconvert_exporter": "python",
   "pygments_lexer": "ipython3",
   "version": "3.9.13"
  }
 },
 "nbformat": 4,
 "nbformat_minor": 5
}
